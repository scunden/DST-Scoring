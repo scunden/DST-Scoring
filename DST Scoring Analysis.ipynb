{
 "cells": [
  {
   "cell_type": "markdown",
   "id": "f1a76544",
   "metadata": {},
   "source": [
    "## Setup Environment"
   ]
  },
  {
   "cell_type": "code",
   "execution_count": 93,
   "id": "54ba079c",
   "metadata": {
    "ExecuteTime": {
     "end_time": "2021-08-04T15:06:44.073273Z",
     "start_time": "2021-08-04T15:06:41.239247Z"
    }
   },
   "outputs": [],
   "source": [
    "import numpy as np\n",
    "import pandas as pd\n",
    "import matplotlib.pyplot as plt\n",
    "from scipy.stats import norm\n",
    "import statistics\n",
    "pd.set_option('display.max_columns', None)\n",
    "# pd.set_option('display.max_rows', None)"
   ]
  },
  {
   "cell_type": "markdown",
   "id": "29bac13b",
   "metadata": {},
   "source": [
    "## Import and Format Data"
   ]
  },
  {
   "cell_type": "code",
   "execution_count": 44,
   "id": "a7926edc",
   "metadata": {
    "ExecuteTime": {
     "end_time": "2021-08-04T14:30:42.821812Z",
     "start_time": "2021-08-04T14:30:42.761799Z"
    }
   },
   "outputs": [],
   "source": [
    "FILENAME = 'DST Scoring 2020.xlsx'\n",
    "SHEET1 = 'Sacks, TFL, Yrds and Points'\n",
    "SHEET2 = 'Defensive Touchdowns'\n",
    "SHEET3 = 'Kicking and Punting'\n",
    "\n",
    "df1 = pd.read_excel(FILENAME, sheet_name=SHEET1)\n",
    "df2 = pd.read_excel(FILENAME, sheet_name=SHEET2)\n",
    "df3 = pd.read_excel(FILENAME, sheet_name=SHEET3)\n",
    "\n",
    "dst_scores = pd.read_csv('FantasyPros_Fantasy_Football_Points_DST.csv')"
   ]
  },
  {
   "cell_type": "code",
   "execution_count": 45,
   "id": "1e60716a",
   "metadata": {
    "ExecuteTime": {
     "end_time": "2021-08-04T14:30:43.504139Z",
     "start_time": "2021-08-04T14:30:43.491137Z"
    }
   },
   "outputs": [
    {
     "data": {
      "text/html": [
       "<div>\n",
       "<style scoped>\n",
       "    .dataframe tbody tr th:only-of-type {\n",
       "        vertical-align: middle;\n",
       "    }\n",
       "\n",
       "    .dataframe tbody tr th {\n",
       "        vertical-align: top;\n",
       "    }\n",
       "\n",
       "    .dataframe thead th {\n",
       "        text-align: right;\n",
       "    }\n",
       "</style>\n",
       "<table border=\"1\" class=\"dataframe\">\n",
       "  <thead>\n",
       "    <tr style=\"text-align: right;\">\n",
       "      <th></th>\n",
       "      <th>Tm</th>\n",
       "      <th>Sk</th>\n",
       "      <th>QBHits</th>\n",
       "      <th>TFL</th>\n",
       "      <th>Int</th>\n",
       "      <th>G</th>\n",
       "      <th>TD</th>\n",
       "      <th>Gms</th>\n",
       "      <th>TotPts</th>\n",
       "      <th>RushYds</th>\n",
       "      <th>PassYds</th>\n",
       "      <th>TotYds</th>\n",
       "    </tr>\n",
       "  </thead>\n",
       "  <tbody>\n",
       "    <tr>\n",
       "      <th>0</th>\n",
       "      <td>Arizona Cardinals</td>\n",
       "      <td>48</td>\n",
       "      <td>100</td>\n",
       "      <td>88</td>\n",
       "      <td>11</td>\n",
       "      <td>16</td>\n",
       "      <td>26</td>\n",
       "      <td>16</td>\n",
       "      <td>367</td>\n",
       "      <td>2008</td>\n",
       "      <td>3623</td>\n",
       "      <td>5631</td>\n",
       "    </tr>\n",
       "    <tr>\n",
       "      <th>1</th>\n",
       "      <td>Atlanta Falcons</td>\n",
       "      <td>29</td>\n",
       "      <td>92</td>\n",
       "      <td>63</td>\n",
       "      <td>12</td>\n",
       "      <td>16</td>\n",
       "      <td>34</td>\n",
       "      <td>16</td>\n",
       "      <td>414</td>\n",
       "      <td>1677</td>\n",
       "      <td>4697</td>\n",
       "      <td>6374</td>\n",
       "    </tr>\n",
       "    <tr>\n",
       "      <th>2</th>\n",
       "      <td>Baltimore Ravens</td>\n",
       "      <td>39</td>\n",
       "      <td>116</td>\n",
       "      <td>71</td>\n",
       "      <td>10</td>\n",
       "      <td>16</td>\n",
       "      <td>22</td>\n",
       "      <td>16</td>\n",
       "      <td>303</td>\n",
       "      <td>1740</td>\n",
       "      <td>3536</td>\n",
       "      <td>5276</td>\n",
       "    </tr>\n",
       "    <tr>\n",
       "      <th>3</th>\n",
       "      <td>Buffalo Bills</td>\n",
       "      <td>38</td>\n",
       "      <td>92</td>\n",
       "      <td>72</td>\n",
       "      <td>15</td>\n",
       "      <td>16</td>\n",
       "      <td>23</td>\n",
       "      <td>16</td>\n",
       "      <td>375</td>\n",
       "      <td>1914</td>\n",
       "      <td>3726</td>\n",
       "      <td>5640</td>\n",
       "    </tr>\n",
       "    <tr>\n",
       "      <th>4</th>\n",
       "      <td>Carolina Panthers</td>\n",
       "      <td>29</td>\n",
       "      <td>89</td>\n",
       "      <td>55</td>\n",
       "      <td>7</td>\n",
       "      <td>16</td>\n",
       "      <td>28</td>\n",
       "      <td>16</td>\n",
       "      <td>402</td>\n",
       "      <td>1936</td>\n",
       "      <td>3825</td>\n",
       "      <td>5761</td>\n",
       "    </tr>\n",
       "  </tbody>\n",
       "</table>\n",
       "</div>"
      ],
      "text/plain": [
       "                  Tm  Sk  QBHits  TFL  Int   G  TD  Gms  TotPts  RushYds  \\\n",
       "0  Arizona Cardinals  48     100   88   11  16  26   16     367     2008   \n",
       "1    Atlanta Falcons  29      92   63   12  16  34   16     414     1677   \n",
       "2   Baltimore Ravens  39     116   71   10  16  22   16     303     1740   \n",
       "3      Buffalo Bills  38      92   72   15  16  23   16     375     1914   \n",
       "4  Carolina Panthers  29      89   55    7  16  28   16     402     1936   \n",
       "\n",
       "   PassYds  TotYds  \n",
       "0     3623    5631  \n",
       "1     4697    6374  \n",
       "2     3536    5276  \n",
       "3     3726    5640  \n",
       "4     3825    5761  "
      ]
     },
     "execution_count": 45,
     "metadata": {},
     "output_type": "execute_result"
    }
   ],
   "source": [
    "df1.head()"
   ]
  },
  {
   "cell_type": "code",
   "execution_count": 46,
   "id": "55498c6e",
   "metadata": {
    "ExecuteTime": {
     "end_time": "2021-08-04T14:30:45.280814Z",
     "start_time": "2021-08-04T14:30:45.265812Z"
    }
   },
   "outputs": [
    {
     "data": {
      "text/html": [
       "<div>\n",
       "<style scoped>\n",
       "    .dataframe tbody tr th:only-of-type {\n",
       "        vertical-align: middle;\n",
       "    }\n",
       "\n",
       "    .dataframe tbody tr th {\n",
       "        vertical-align: top;\n",
       "    }\n",
       "\n",
       "    .dataframe thead th {\n",
       "        text-align: right;\n",
       "    }\n",
       "</style>\n",
       "<table border=\"1\" class=\"dataframe\">\n",
       "  <thead>\n",
       "    <tr style=\"text-align: right;\">\n",
       "      <th></th>\n",
       "      <th>TEAM</th>\n",
       "      <th>SEASON</th>\n",
       "      <th>GP</th>\n",
       "      <th>INT</th>\n",
       "      <th>INT TD</th>\n",
       "      <th>FF</th>\n",
       "      <th>FR</th>\n",
       "      <th>FR TD</th>\n",
       "    </tr>\n",
       "  </thead>\n",
       "  <tbody>\n",
       "    <tr>\n",
       "      <th>0</th>\n",
       "      <td>Chicago Bears</td>\n",
       "      <td>2020</td>\n",
       "      <td>16</td>\n",
       "      <td>10</td>\n",
       "      <td>0</td>\n",
       "      <td>15</td>\n",
       "      <td>8</td>\n",
       "      <td>1</td>\n",
       "    </tr>\n",
       "    <tr>\n",
       "      <th>1</th>\n",
       "      <td>Arizona Cardinals</td>\n",
       "      <td>2020</td>\n",
       "      <td>16</td>\n",
       "      <td>11</td>\n",
       "      <td>0</td>\n",
       "      <td>15</td>\n",
       "      <td>10</td>\n",
       "      <td>0</td>\n",
       "    </tr>\n",
       "    <tr>\n",
       "      <th>2</th>\n",
       "      <td>Green Bay Packers</td>\n",
       "      <td>2020</td>\n",
       "      <td>16</td>\n",
       "      <td>11</td>\n",
       "      <td>1</td>\n",
       "      <td>12</td>\n",
       "      <td>7</td>\n",
       "      <td>1</td>\n",
       "    </tr>\n",
       "    <tr>\n",
       "      <th>3</th>\n",
       "      <td>New York Giants</td>\n",
       "      <td>2020</td>\n",
       "      <td>16</td>\n",
       "      <td>11</td>\n",
       "      <td>1</td>\n",
       "      <td>14</td>\n",
       "      <td>11</td>\n",
       "      <td>1</td>\n",
       "    </tr>\n",
       "    <tr>\n",
       "      <th>4</th>\n",
       "      <td>Detroit Lions</td>\n",
       "      <td>2020</td>\n",
       "      <td>16</td>\n",
       "      <td>7</td>\n",
       "      <td>0</td>\n",
       "      <td>15</td>\n",
       "      <td>5</td>\n",
       "      <td>0</td>\n",
       "    </tr>\n",
       "  </tbody>\n",
       "</table>\n",
       "</div>"
      ],
      "text/plain": [
       "                TEAM  SEASON  GP  INT  INT TD  FF  FR  FR TD\n",
       "0      Chicago Bears    2020  16   10       0  15   8      1\n",
       "1  Arizona Cardinals    2020  16   11       0  15  10      0\n",
       "2  Green Bay Packers    2020  16   11       1  12   7      1\n",
       "3    New York Giants    2020  16   11       1  14  11      1\n",
       "4      Detroit Lions    2020  16    7       0  15   5      0"
      ]
     },
     "execution_count": 46,
     "metadata": {},
     "output_type": "execute_result"
    }
   ],
   "source": [
    "df2.head()"
   ]
  },
  {
   "cell_type": "code",
   "execution_count": 47,
   "id": "60f3bc34",
   "metadata": {
    "ExecuteTime": {
     "end_time": "2021-08-04T14:30:45.611589Z",
     "start_time": "2021-08-04T14:30:45.601587Z"
    }
   },
   "outputs": [],
   "source": [
    "df3.columns = ['Team', 'Team Name', 'KRet Avg', 'KRet Ret', 'KRet Yds', 'KRet TD', 'KRet 20+', 'KRet40+',\n",
    "       'KRet Lng', 'KRet FC', 'KRet FUM', 'FG Blk', 'XP Blk', 'PRet Avg', 'PRet Ret', 'PRet Yds', 'PRet T',\n",
    "       'PRet 20+', 'PRet 40+', 'PRet Lng', 'PRet FC', 'PRet FUM', 'P Blk']\n",
    "df3 = df3[1:]"
   ]
  },
  {
   "cell_type": "code",
   "execution_count": 48,
   "id": "2176ec89",
   "metadata": {
    "ExecuteTime": {
     "end_time": "2021-08-04T14:30:46.556824Z",
     "start_time": "2021-08-04T14:30:46.538822Z"
    }
   },
   "outputs": [
    {
     "data": {
      "text/html": [
       "<div>\n",
       "<style scoped>\n",
       "    .dataframe tbody tr th:only-of-type {\n",
       "        vertical-align: middle;\n",
       "    }\n",
       "\n",
       "    .dataframe tbody tr th {\n",
       "        vertical-align: top;\n",
       "    }\n",
       "\n",
       "    .dataframe thead th {\n",
       "        text-align: right;\n",
       "    }\n",
       "</style>\n",
       "<table border=\"1\" class=\"dataframe\">\n",
       "  <thead>\n",
       "    <tr style=\"text-align: right;\">\n",
       "      <th></th>\n",
       "      <th>Team</th>\n",
       "      <th>Team Name</th>\n",
       "      <th>KRet Avg</th>\n",
       "      <th>KRet Ret</th>\n",
       "      <th>KRet Yds</th>\n",
       "      <th>KRet TD</th>\n",
       "      <th>KRet 20+</th>\n",
       "      <th>KRet40+</th>\n",
       "      <th>KRet Lng</th>\n",
       "      <th>KRet FC</th>\n",
       "      <th>KRet FUM</th>\n",
       "      <th>FG Blk</th>\n",
       "      <th>XP Blk</th>\n",
       "      <th>PRet Avg</th>\n",
       "      <th>PRet Ret</th>\n",
       "      <th>PRet Yds</th>\n",
       "      <th>PRet T</th>\n",
       "      <th>PRet 20+</th>\n",
       "      <th>PRet 40+</th>\n",
       "      <th>PRet Lng</th>\n",
       "      <th>PRet FC</th>\n",
       "      <th>PRet FUM</th>\n",
       "      <th>P Blk</th>\n",
       "    </tr>\n",
       "  </thead>\n",
       "  <tbody>\n",
       "    <tr>\n",
       "      <th>1</th>\n",
       "      <td>Cardinals</td>\n",
       "      <td>Arizona Cardinals</td>\n",
       "      <td>21.9</td>\n",
       "      <td>24</td>\n",
       "      <td>525</td>\n",
       "      <td>0</td>\n",
       "      <td>15</td>\n",
       "      <td>2</td>\n",
       "      <td>54</td>\n",
       "      <td>0</td>\n",
       "      <td>1</td>\n",
       "      <td>0</td>\n",
       "      <td>0</td>\n",
       "      <td>5.4</td>\n",
       "      <td>25</td>\n",
       "      <td>136</td>\n",
       "      <td>0</td>\n",
       "      <td>2</td>\n",
       "      <td>0</td>\n",
       "      <td>24</td>\n",
       "      <td>15</td>\n",
       "      <td>1</td>\n",
       "      <td>2</td>\n",
       "    </tr>\n",
       "    <tr>\n",
       "      <th>2</th>\n",
       "      <td>Falcons</td>\n",
       "      <td>Atlanta Falcons</td>\n",
       "      <td>20.5</td>\n",
       "      <td>20</td>\n",
       "      <td>409</td>\n",
       "      <td>0</td>\n",
       "      <td>11</td>\n",
       "      <td>0</td>\n",
       "      <td>29</td>\n",
       "      <td>0</td>\n",
       "      <td>1</td>\n",
       "      <td>0</td>\n",
       "      <td>0</td>\n",
       "      <td>8.9</td>\n",
       "      <td>17</td>\n",
       "      <td>152</td>\n",
       "      <td>0</td>\n",
       "      <td>2</td>\n",
       "      <td>0</td>\n",
       "      <td>24</td>\n",
       "      <td>23</td>\n",
       "      <td>0</td>\n",
       "      <td>0</td>\n",
       "    </tr>\n",
       "    <tr>\n",
       "      <th>3</th>\n",
       "      <td>Ravens</td>\n",
       "      <td>Baltimore Ravens</td>\n",
       "      <td>26.7</td>\n",
       "      <td>23</td>\n",
       "      <td>613</td>\n",
       "      <td>1</td>\n",
       "      <td>17</td>\n",
       "      <td>1</td>\n",
       "      <td>93T</td>\n",
       "      <td>0</td>\n",
       "      <td>0</td>\n",
       "      <td>0</td>\n",
       "      <td>0</td>\n",
       "      <td>9</td>\n",
       "      <td>27</td>\n",
       "      <td>244</td>\n",
       "      <td>0</td>\n",
       "      <td>1</td>\n",
       "      <td>0</td>\n",
       "      <td>20</td>\n",
       "      <td>18</td>\n",
       "      <td>0</td>\n",
       "      <td>0</td>\n",
       "    </tr>\n",
       "    <tr>\n",
       "      <th>4</th>\n",
       "      <td>Bills</td>\n",
       "      <td>Buffalo Bills</td>\n",
       "      <td>27.6</td>\n",
       "      <td>36</td>\n",
       "      <td>995</td>\n",
       "      <td>0</td>\n",
       "      <td>30</td>\n",
       "      <td>5</td>\n",
       "      <td>60</td>\n",
       "      <td>0</td>\n",
       "      <td>2</td>\n",
       "      <td>0</td>\n",
       "      <td>0</td>\n",
       "      <td>11.9</td>\n",
       "      <td>31</td>\n",
       "      <td>370</td>\n",
       "      <td>1</td>\n",
       "      <td>5</td>\n",
       "      <td>1</td>\n",
       "      <td>84T</td>\n",
       "      <td>13</td>\n",
       "      <td>2</td>\n",
       "      <td>0</td>\n",
       "    </tr>\n",
       "    <tr>\n",
       "      <th>5</th>\n",
       "      <td>Panthers</td>\n",
       "      <td>Carolina Panthers</td>\n",
       "      <td>25.3</td>\n",
       "      <td>29</td>\n",
       "      <td>734</td>\n",
       "      <td>0</td>\n",
       "      <td>21</td>\n",
       "      <td>1</td>\n",
       "      <td>98</td>\n",
       "      <td>0</td>\n",
       "      <td>0</td>\n",
       "      <td>0</td>\n",
       "      <td>1</td>\n",
       "      <td>5.9</td>\n",
       "      <td>20</td>\n",
       "      <td>117</td>\n",
       "      <td>0</td>\n",
       "      <td>1</td>\n",
       "      <td>0</td>\n",
       "      <td>20</td>\n",
       "      <td>18</td>\n",
       "      <td>1</td>\n",
       "      <td>0</td>\n",
       "    </tr>\n",
       "  </tbody>\n",
       "</table>\n",
       "</div>"
      ],
      "text/plain": [
       "        Team          Team Name KRet Avg KRet Ret KRet Yds KRet TD KRet 20+  \\\n",
       "1  Cardinals  Arizona Cardinals     21.9       24      525       0       15   \n",
       "2    Falcons    Atlanta Falcons     20.5       20      409       0       11   \n",
       "3     Ravens   Baltimore Ravens     26.7       23      613       1       17   \n",
       "4      Bills      Buffalo Bills     27.6       36      995       0       30   \n",
       "5   Panthers  Carolina Panthers     25.3       29      734       0       21   \n",
       "\n",
       "  KRet40+ KRet Lng KRet FC KRet FUM FG Blk XP Blk PRet Avg PRet Ret PRet Yds  \\\n",
       "1       2       54       0        1      0      0      5.4       25      136   \n",
       "2       0       29       0        1      0      0      8.9       17      152   \n",
       "3       1      93T       0        0      0      0        9       27      244   \n",
       "4       5       60       0        2      0      0     11.9       31      370   \n",
       "5       1       98       0        0      0      1      5.9       20      117   \n",
       "\n",
       "  PRet T PRet 20+ PRet 40+ PRet Lng PRet FC PRet FUM P Blk  \n",
       "1      0        2        0       24      15        1     2  \n",
       "2      0        2        0       24      23        0     0  \n",
       "3      0        1        0       20      18        0     0  \n",
       "4      1        5        1      84T      13        2     0  \n",
       "5      0        1        0       20      18        1     0  "
      ]
     },
     "execution_count": 48,
     "metadata": {},
     "output_type": "execute_result"
    }
   ],
   "source": [
    "df3.head()"
   ]
  },
  {
   "cell_type": "markdown",
   "id": "77abc32d",
   "metadata": {},
   "source": [
    "### Merge Dataframes"
   ]
  },
  {
   "cell_type": "code",
   "execution_count": 49,
   "id": "7f40605c",
   "metadata": {
    "ExecuteTime": {
     "end_time": "2021-08-04T14:30:47.043473Z",
     "start_time": "2021-08-04T14:30:47.026470Z"
    }
   },
   "outputs": [],
   "source": [
    "df = df1.merge(df2, left_on='Tm', right_on='TEAM')\n",
    "df = df.merge(df3, left_on='Tm', right_on='Team Name')"
   ]
  },
  {
   "cell_type": "code",
   "execution_count": 50,
   "id": "60d5a335",
   "metadata": {
    "ExecuteTime": {
     "end_time": "2021-08-04T14:30:47.231218Z",
     "start_time": "2021-08-04T14:30:47.228215Z"
    }
   },
   "outputs": [
    {
     "data": {
      "text/plain": [
       "(32, 43)"
      ]
     },
     "execution_count": 50,
     "metadata": {},
     "output_type": "execute_result"
    }
   ],
   "source": [
    "df.shape"
   ]
  },
  {
   "cell_type": "code",
   "execution_count": 51,
   "id": "a8ba0617",
   "metadata": {
    "ExecuteTime": {
     "end_time": "2021-08-04T14:30:48.056515Z",
     "start_time": "2021-08-04T14:30:48.027499Z"
    }
   },
   "outputs": [
    {
     "data": {
      "text/html": [
       "<div>\n",
       "<style scoped>\n",
       "    .dataframe tbody tr th:only-of-type {\n",
       "        vertical-align: middle;\n",
       "    }\n",
       "\n",
       "    .dataframe tbody tr th {\n",
       "        vertical-align: top;\n",
       "    }\n",
       "\n",
       "    .dataframe thead th {\n",
       "        text-align: right;\n",
       "    }\n",
       "</style>\n",
       "<table border=\"1\" class=\"dataframe\">\n",
       "  <thead>\n",
       "    <tr style=\"text-align: right;\">\n",
       "      <th></th>\n",
       "      <th>Tm</th>\n",
       "      <th>Sk</th>\n",
       "      <th>QBHits</th>\n",
       "      <th>TFL</th>\n",
       "      <th>Int</th>\n",
       "      <th>G</th>\n",
       "      <th>TD</th>\n",
       "      <th>Gms</th>\n",
       "      <th>TotPts</th>\n",
       "      <th>RushYds</th>\n",
       "      <th>PassYds</th>\n",
       "      <th>TotYds</th>\n",
       "      <th>TEAM</th>\n",
       "      <th>SEASON</th>\n",
       "      <th>GP</th>\n",
       "      <th>INT</th>\n",
       "      <th>INT TD</th>\n",
       "      <th>FF</th>\n",
       "      <th>FR</th>\n",
       "      <th>FR TD</th>\n",
       "      <th>Team</th>\n",
       "      <th>Team Name</th>\n",
       "      <th>KRet Avg</th>\n",
       "      <th>KRet Ret</th>\n",
       "      <th>KRet Yds</th>\n",
       "      <th>KRet TD</th>\n",
       "      <th>KRet 20+</th>\n",
       "      <th>KRet40+</th>\n",
       "      <th>KRet Lng</th>\n",
       "      <th>KRet FC</th>\n",
       "      <th>KRet FUM</th>\n",
       "      <th>FG Blk</th>\n",
       "      <th>XP Blk</th>\n",
       "      <th>PRet Avg</th>\n",
       "      <th>PRet Ret</th>\n",
       "      <th>PRet Yds</th>\n",
       "      <th>PRet T</th>\n",
       "      <th>PRet 20+</th>\n",
       "      <th>PRet 40+</th>\n",
       "      <th>PRet Lng</th>\n",
       "      <th>PRet FC</th>\n",
       "      <th>PRet FUM</th>\n",
       "      <th>P Blk</th>\n",
       "    </tr>\n",
       "  </thead>\n",
       "  <tbody>\n",
       "    <tr>\n",
       "      <th>0</th>\n",
       "      <td>Arizona Cardinals</td>\n",
       "      <td>48</td>\n",
       "      <td>100</td>\n",
       "      <td>88</td>\n",
       "      <td>11</td>\n",
       "      <td>16</td>\n",
       "      <td>26</td>\n",
       "      <td>16</td>\n",
       "      <td>367</td>\n",
       "      <td>2008</td>\n",
       "      <td>3623</td>\n",
       "      <td>5631</td>\n",
       "      <td>Arizona Cardinals</td>\n",
       "      <td>2020</td>\n",
       "      <td>16</td>\n",
       "      <td>11</td>\n",
       "      <td>0</td>\n",
       "      <td>15</td>\n",
       "      <td>10</td>\n",
       "      <td>0</td>\n",
       "      <td>Cardinals</td>\n",
       "      <td>Arizona Cardinals</td>\n",
       "      <td>21.9</td>\n",
       "      <td>24</td>\n",
       "      <td>525</td>\n",
       "      <td>0</td>\n",
       "      <td>15</td>\n",
       "      <td>2</td>\n",
       "      <td>54</td>\n",
       "      <td>0</td>\n",
       "      <td>1</td>\n",
       "      <td>0</td>\n",
       "      <td>0</td>\n",
       "      <td>5.4</td>\n",
       "      <td>25</td>\n",
       "      <td>136</td>\n",
       "      <td>0</td>\n",
       "      <td>2</td>\n",
       "      <td>0</td>\n",
       "      <td>24</td>\n",
       "      <td>15</td>\n",
       "      <td>1</td>\n",
       "      <td>2</td>\n",
       "    </tr>\n",
       "    <tr>\n",
       "      <th>1</th>\n",
       "      <td>Atlanta Falcons</td>\n",
       "      <td>29</td>\n",
       "      <td>92</td>\n",
       "      <td>63</td>\n",
       "      <td>12</td>\n",
       "      <td>16</td>\n",
       "      <td>34</td>\n",
       "      <td>16</td>\n",
       "      <td>414</td>\n",
       "      <td>1677</td>\n",
       "      <td>4697</td>\n",
       "      <td>6374</td>\n",
       "      <td>Atlanta Falcons</td>\n",
       "      <td>2020</td>\n",
       "      <td>16</td>\n",
       "      <td>12</td>\n",
       "      <td>1</td>\n",
       "      <td>17</td>\n",
       "      <td>9</td>\n",
       "      <td>0</td>\n",
       "      <td>Falcons</td>\n",
       "      <td>Atlanta Falcons</td>\n",
       "      <td>20.5</td>\n",
       "      <td>20</td>\n",
       "      <td>409</td>\n",
       "      <td>0</td>\n",
       "      <td>11</td>\n",
       "      <td>0</td>\n",
       "      <td>29</td>\n",
       "      <td>0</td>\n",
       "      <td>1</td>\n",
       "      <td>0</td>\n",
       "      <td>0</td>\n",
       "      <td>8.9</td>\n",
       "      <td>17</td>\n",
       "      <td>152</td>\n",
       "      <td>0</td>\n",
       "      <td>2</td>\n",
       "      <td>0</td>\n",
       "      <td>24</td>\n",
       "      <td>23</td>\n",
       "      <td>0</td>\n",
       "      <td>0</td>\n",
       "    </tr>\n",
       "    <tr>\n",
       "      <th>2</th>\n",
       "      <td>Baltimore Ravens</td>\n",
       "      <td>39</td>\n",
       "      <td>116</td>\n",
       "      <td>71</td>\n",
       "      <td>10</td>\n",
       "      <td>16</td>\n",
       "      <td>22</td>\n",
       "      <td>16</td>\n",
       "      <td>303</td>\n",
       "      <td>1740</td>\n",
       "      <td>3536</td>\n",
       "      <td>5276</td>\n",
       "      <td>Baltimore Ravens</td>\n",
       "      <td>2020</td>\n",
       "      <td>16</td>\n",
       "      <td>10</td>\n",
       "      <td>0</td>\n",
       "      <td>25</td>\n",
       "      <td>12</td>\n",
       "      <td>3</td>\n",
       "      <td>Ravens</td>\n",
       "      <td>Baltimore Ravens</td>\n",
       "      <td>26.7</td>\n",
       "      <td>23</td>\n",
       "      <td>613</td>\n",
       "      <td>1</td>\n",
       "      <td>17</td>\n",
       "      <td>1</td>\n",
       "      <td>93T</td>\n",
       "      <td>0</td>\n",
       "      <td>0</td>\n",
       "      <td>0</td>\n",
       "      <td>0</td>\n",
       "      <td>9</td>\n",
       "      <td>27</td>\n",
       "      <td>244</td>\n",
       "      <td>0</td>\n",
       "      <td>1</td>\n",
       "      <td>0</td>\n",
       "      <td>20</td>\n",
       "      <td>18</td>\n",
       "      <td>0</td>\n",
       "      <td>0</td>\n",
       "    </tr>\n",
       "    <tr>\n",
       "      <th>3</th>\n",
       "      <td>Buffalo Bills</td>\n",
       "      <td>38</td>\n",
       "      <td>92</td>\n",
       "      <td>72</td>\n",
       "      <td>15</td>\n",
       "      <td>16</td>\n",
       "      <td>23</td>\n",
       "      <td>16</td>\n",
       "      <td>375</td>\n",
       "      <td>1914</td>\n",
       "      <td>3726</td>\n",
       "      <td>5640</td>\n",
       "      <td>Buffalo Bills</td>\n",
       "      <td>2020</td>\n",
       "      <td>16</td>\n",
       "      <td>15</td>\n",
       "      <td>2</td>\n",
       "      <td>15</td>\n",
       "      <td>11</td>\n",
       "      <td>1</td>\n",
       "      <td>Bills</td>\n",
       "      <td>Buffalo Bills</td>\n",
       "      <td>27.6</td>\n",
       "      <td>36</td>\n",
       "      <td>995</td>\n",
       "      <td>0</td>\n",
       "      <td>30</td>\n",
       "      <td>5</td>\n",
       "      <td>60</td>\n",
       "      <td>0</td>\n",
       "      <td>2</td>\n",
       "      <td>0</td>\n",
       "      <td>0</td>\n",
       "      <td>11.9</td>\n",
       "      <td>31</td>\n",
       "      <td>370</td>\n",
       "      <td>1</td>\n",
       "      <td>5</td>\n",
       "      <td>1</td>\n",
       "      <td>84T</td>\n",
       "      <td>13</td>\n",
       "      <td>2</td>\n",
       "      <td>0</td>\n",
       "    </tr>\n",
       "    <tr>\n",
       "      <th>4</th>\n",
       "      <td>Carolina Panthers</td>\n",
       "      <td>29</td>\n",
       "      <td>89</td>\n",
       "      <td>55</td>\n",
       "      <td>7</td>\n",
       "      <td>16</td>\n",
       "      <td>28</td>\n",
       "      <td>16</td>\n",
       "      <td>402</td>\n",
       "      <td>1936</td>\n",
       "      <td>3825</td>\n",
       "      <td>5761</td>\n",
       "      <td>Carolina Panthers</td>\n",
       "      <td>2020</td>\n",
       "      <td>16</td>\n",
       "      <td>7</td>\n",
       "      <td>0</td>\n",
       "      <td>14</td>\n",
       "      <td>15</td>\n",
       "      <td>3</td>\n",
       "      <td>Panthers</td>\n",
       "      <td>Carolina Panthers</td>\n",
       "      <td>25.3</td>\n",
       "      <td>29</td>\n",
       "      <td>734</td>\n",
       "      <td>0</td>\n",
       "      <td>21</td>\n",
       "      <td>1</td>\n",
       "      <td>98</td>\n",
       "      <td>0</td>\n",
       "      <td>0</td>\n",
       "      <td>0</td>\n",
       "      <td>1</td>\n",
       "      <td>5.9</td>\n",
       "      <td>20</td>\n",
       "      <td>117</td>\n",
       "      <td>0</td>\n",
       "      <td>1</td>\n",
       "      <td>0</td>\n",
       "      <td>20</td>\n",
       "      <td>18</td>\n",
       "      <td>1</td>\n",
       "      <td>0</td>\n",
       "    </tr>\n",
       "  </tbody>\n",
       "</table>\n",
       "</div>"
      ],
      "text/plain": [
       "                  Tm  Sk  QBHits  TFL  Int   G  TD  Gms  TotPts  RushYds  \\\n",
       "0  Arizona Cardinals  48     100   88   11  16  26   16     367     2008   \n",
       "1    Atlanta Falcons  29      92   63   12  16  34   16     414     1677   \n",
       "2   Baltimore Ravens  39     116   71   10  16  22   16     303     1740   \n",
       "3      Buffalo Bills  38      92   72   15  16  23   16     375     1914   \n",
       "4  Carolina Panthers  29      89   55    7  16  28   16     402     1936   \n",
       "\n",
       "   PassYds  TotYds               TEAM  SEASON  GP  INT  INT TD  FF  FR  FR TD  \\\n",
       "0     3623    5631  Arizona Cardinals    2020  16   11       0  15  10      0   \n",
       "1     4697    6374    Atlanta Falcons    2020  16   12       1  17   9      0   \n",
       "2     3536    5276   Baltimore Ravens    2020  16   10       0  25  12      3   \n",
       "3     3726    5640      Buffalo Bills    2020  16   15       2  15  11      1   \n",
       "4     3825    5761  Carolina Panthers    2020  16    7       0  14  15      3   \n",
       "\n",
       "        Team          Team Name KRet Avg KRet Ret KRet Yds KRet TD KRet 20+  \\\n",
       "0  Cardinals  Arizona Cardinals     21.9       24      525       0       15   \n",
       "1    Falcons    Atlanta Falcons     20.5       20      409       0       11   \n",
       "2     Ravens   Baltimore Ravens     26.7       23      613       1       17   \n",
       "3      Bills      Buffalo Bills     27.6       36      995       0       30   \n",
       "4   Panthers  Carolina Panthers     25.3       29      734       0       21   \n",
       "\n",
       "  KRet40+ KRet Lng KRet FC KRet FUM FG Blk XP Blk PRet Avg PRet Ret PRet Yds  \\\n",
       "0       2       54       0        1      0      0      5.4       25      136   \n",
       "1       0       29       0        1      0      0      8.9       17      152   \n",
       "2       1      93T       0        0      0      0        9       27      244   \n",
       "3       5       60       0        2      0      0     11.9       31      370   \n",
       "4       1       98       0        0      0      1      5.9       20      117   \n",
       "\n",
       "  PRet T PRet 20+ PRet 40+ PRet Lng PRet FC PRet FUM P Blk  \n",
       "0      0        2        0       24      15        1     2  \n",
       "1      0        2        0       24      23        0     0  \n",
       "2      0        1        0       20      18        0     0  \n",
       "3      1        5        1      84T      13        2     0  \n",
       "4      0        1        0       20      18        1     0  "
      ]
     },
     "execution_count": 51,
     "metadata": {},
     "output_type": "execute_result"
    }
   ],
   "source": [
    "df.head()"
   ]
  },
  {
   "cell_type": "code",
   "execution_count": 52,
   "id": "a63aae4b",
   "metadata": {
    "ExecuteTime": {
     "end_time": "2021-08-04T14:30:48.371534Z",
     "start_time": "2021-08-04T14:30:48.354572Z"
    }
   },
   "outputs": [
    {
     "data": {
      "text/plain": [
       "Index(['Tm', 'Sk', 'QBHits', 'TFL', 'Int', 'G', 'TD', 'Gms', 'TotPts',\n",
       "       'RushYds', 'PassYds', 'TotYds', 'TEAM', 'SEASON', 'GP', 'INT', 'INT TD',\n",
       "       'FF', 'FR', 'FR TD', 'Team', 'Team Name', 'KRet Avg', 'KRet Ret',\n",
       "       'KRet Yds', 'KRet TD', 'KRet 20+', 'KRet40+', 'KRet Lng', 'KRet FC',\n",
       "       'KRet FUM', 'FG Blk', 'XP Blk', 'PRet Avg', 'PRet Ret', 'PRet Yds',\n",
       "       'PRet T', 'PRet 20+', 'PRet 40+', 'PRet Lng', 'PRet FC', 'PRet FUM',\n",
       "       'P Blk'],\n",
       "      dtype='object')"
      ]
     },
     "execution_count": 52,
     "metadata": {},
     "output_type": "execute_result"
    }
   ],
   "source": [
    "df.columns"
   ]
  },
  {
   "cell_type": "markdown",
   "id": "e4f21704",
   "metadata": {},
   "source": [
    "## Calculate Points per Game"
   ]
  },
  {
   "cell_type": "code",
   "execution_count": 263,
   "id": "e2f61f4a",
   "metadata": {
    "ExecuteTime": {
     "end_time": "2021-08-04T15:51:53.283042Z",
     "start_time": "2021-08-04T15:51:53.270039Z"
    }
   },
   "outputs": [],
   "source": [
    "df_per_game = df[[\n",
    "    'Tm', 'Sk', 'QBHits', 'TFL', 'TotPts','TotYds','INT', 'INT TD',\n",
    "    'FF', 'FR', 'FR TD','KRet Yds', 'KRet TD','FG Blk', 'XP Blk','PRet Yds', 'P Blk', 'PRet T']]"
   ]
  },
  {
   "cell_type": "code",
   "execution_count": 264,
   "id": "72e5b858",
   "metadata": {
    "ExecuteTime": {
     "end_time": "2021-08-04T15:51:53.502416Z",
     "start_time": "2021-08-04T15:51:53.485413Z"
    }
   },
   "outputs": [],
   "source": [
    "df_per_game.set_index('Tm', inplace=True)\n",
    "df_per_game = df_per_game/16\n",
    "\n",
    "def points_allowed_score(points):\n",
    "    if points == 0: return 5\n",
    "    elif points <=6: return 4\n",
    "    elif points <=13: return 3\n",
    "    elif points <=17: return 1\n",
    "    elif points <=27: return 0\n",
    "    elif points <=34: return -1\n",
    "    elif points <=45: return -3\n",
    "    else:return -5\n",
    "\n",
    "df_per_game['points_allowed_score'] = df_per_game['TotPts'].apply(points_allowed_score)"
   ]
  },
  {
   "cell_type": "code",
   "execution_count": 265,
   "id": "45be03b0",
   "metadata": {
    "ExecuteTime": {
     "end_time": "2021-08-04T15:51:53.751103Z",
     "start_time": "2021-08-04T15:51:53.733100Z"
    }
   },
   "outputs": [],
   "source": [
    "CURRENT_SCORING = np.array([1, # Sacks\n",
    "                            0, # QBHits\n",
    "                            0, # TFL\n",
    "                            0, # TotPts\n",
    "                            0, # TotYds\n",
    "                            2, # INT\n",
    "                            6, # INT TD\n",
    "                            0, # FF\n",
    "                            2, # FR\n",
    "                            6, # FR TD\n",
    "                            0, # KRet Yds\n",
    "                            6, # Kret TD\n",
    "                            2, # FG Blk\n",
    "                            2, # XP Blk\n",
    "                            0, # Pret Yds\n",
    "                            2, # P Blk\n",
    "                            6, # PRet TD\n",
    "                            1  # points allowed score\n",
    "                           ])"
   ]
  },
  {
   "cell_type": "code",
   "execution_count": 266,
   "id": "19f1a03c",
   "metadata": {
    "ExecuteTime": {
     "end_time": "2021-08-04T15:51:53.936101Z",
     "start_time": "2021-08-04T15:51:53.925099Z"
    }
   },
   "outputs": [],
   "source": [
    "SCORES = np.dot(df_per_game.values, CURRENT_SCORING)\n",
    "df_per_game[\"calc_ppg\"] = SCORES"
   ]
  },
  {
   "cell_type": "markdown",
   "id": "58a3b22a",
   "metadata": {},
   "source": [
    "## Compare Points per Game"
   ]
  },
  {
   "cell_type": "code",
   "execution_count": 267,
   "id": "cc768c7d",
   "metadata": {
    "ExecuteTime": {
     "end_time": "2021-08-04T15:51:54.326158Z",
     "start_time": "2021-08-04T15:51:54.317156Z"
    }
   },
   "outputs": [
    {
     "data": {
      "text/plain": [
       "Tm           object\n",
       "calc_ppg     object\n",
       "Team         object\n",
       "Avg         float64\n",
       "dtype: object"
      ]
     },
     "execution_count": 267,
     "metadata": {},
     "output_type": "execute_result"
    }
   ],
   "source": [
    "comparison = df_per_game.reset_index()[['Tm','calc_ppg']].merge(dst_scores[[\"Team\",\"Avg\"]], \n",
    "                               left_on='Tm',right_on='Team')\n",
    "\n",
    "comparison.dtypes"
   ]
  },
  {
   "cell_type": "code",
   "execution_count": 268,
   "id": "d6547425",
   "metadata": {
    "ExecuteTime": {
     "end_time": "2021-08-04T15:51:54.529125Z",
     "start_time": "2021-08-04T15:51:54.517123Z"
    }
   },
   "outputs": [],
   "source": [
    "comparison['calc_rank'] = comparison['calc_ppg'].rank()\n",
    "comparison['actual_rank'] = comparison['Avg'].rank()"
   ]
  },
  {
   "cell_type": "code",
   "execution_count": 269,
   "id": "37b91dee",
   "metadata": {
    "ExecuteTime": {
     "end_time": "2021-08-04T15:51:54.732907Z",
     "start_time": "2021-08-04T15:51:54.716905Z"
    }
   },
   "outputs": [],
   "source": [
    "comparison.calc_ppg = comparison.calc_ppg.astype('float64')"
   ]
  },
  {
   "cell_type": "code",
   "execution_count": 270,
   "id": "ffcdc027",
   "metadata": {
    "ExecuteTime": {
     "end_time": "2021-08-04T15:51:54.934711Z",
     "start_time": "2021-08-04T15:51:54.917707Z"
    }
   },
   "outputs": [
    {
     "data": {
      "text/html": [
       "<div>\n",
       "<style scoped>\n",
       "    .dataframe tbody tr th:only-of-type {\n",
       "        vertical-align: middle;\n",
       "    }\n",
       "\n",
       "    .dataframe tbody tr th {\n",
       "        vertical-align: top;\n",
       "    }\n",
       "\n",
       "    .dataframe thead th {\n",
       "        text-align: right;\n",
       "    }\n",
       "</style>\n",
       "<table border=\"1\" class=\"dataframe\">\n",
       "  <thead>\n",
       "    <tr style=\"text-align: right;\">\n",
       "      <th></th>\n",
       "      <th>Tm</th>\n",
       "      <th>calc_ppg</th>\n",
       "      <th>Team</th>\n",
       "      <th>Avg</th>\n",
       "      <th>calc_rank</th>\n",
       "      <th>actual_rank</th>\n",
       "    </tr>\n",
       "  </thead>\n",
       "  <tbody>\n",
       "    <tr>\n",
       "      <th>10</th>\n",
       "      <td>Detroit Lions</td>\n",
       "      <td>2.8750</td>\n",
       "      <td>Detroit Lions</td>\n",
       "      <td>1.8</td>\n",
       "      <td>2.5</td>\n",
       "      <td>1.0</td>\n",
       "    </tr>\n",
       "    <tr>\n",
       "      <th>12</th>\n",
       "      <td>Houston Texans</td>\n",
       "      <td>2.8750</td>\n",
       "      <td>Houston Texans</td>\n",
       "      <td>2.6</td>\n",
       "      <td>2.5</td>\n",
       "      <td>2.0</td>\n",
       "    </tr>\n",
       "    <tr>\n",
       "      <th>16</th>\n",
       "      <td>Las Vegas Raiders</td>\n",
       "      <td>2.4375</td>\n",
       "      <td>Las Vegas Raiders</td>\n",
       "      <td>2.7</td>\n",
       "      <td>1.0</td>\n",
       "      <td>3.0</td>\n",
       "    </tr>\n",
       "    <tr>\n",
       "      <th>6</th>\n",
       "      <td>Cincinnati Bengals</td>\n",
       "      <td>3.5625</td>\n",
       "      <td>Cincinnati Bengals</td>\n",
       "      <td>2.8</td>\n",
       "      <td>6.0</td>\n",
       "      <td>4.0</td>\n",
       "    </tr>\n",
       "    <tr>\n",
       "      <th>14</th>\n",
       "      <td>Jacksonville Jaguars</td>\n",
       "      <td>3.1250</td>\n",
       "      <td>Jacksonville Jaguars</td>\n",
       "      <td>3.6</td>\n",
       "      <td>4.0</td>\n",
       "      <td>5.0</td>\n",
       "    </tr>\n",
       "  </tbody>\n",
       "</table>\n",
       "</div>"
      ],
      "text/plain": [
       "                      Tm  calc_ppg                  Team  Avg  calc_rank  \\\n",
       "10         Detroit Lions    2.8750         Detroit Lions  1.8        2.5   \n",
       "12        Houston Texans    2.8750        Houston Texans  2.6        2.5   \n",
       "16     Las Vegas Raiders    2.4375     Las Vegas Raiders  2.7        1.0   \n",
       "6     Cincinnati Bengals    3.5625    Cincinnati Bengals  2.8        6.0   \n",
       "14  Jacksonville Jaguars    3.1250  Jacksonville Jaguars  3.6        4.0   \n",
       "\n",
       "    actual_rank  \n",
       "10          1.0  \n",
       "12          2.0  \n",
       "16          3.0  \n",
       "6           4.0  \n",
       "14          5.0  "
      ]
     },
     "execution_count": 270,
     "metadata": {},
     "output_type": "execute_result"
    }
   ],
   "source": [
    "comparison.sort_values(by=['actual_rank']).head()"
   ]
  },
  {
   "cell_type": "code",
   "execution_count": 424,
   "id": "2c790700",
   "metadata": {
    "ExecuteTime": {
     "end_time": "2021-08-04T17:18:55.187632Z",
     "start_time": "2021-08-04T17:18:55.182632Z"
    }
   },
   "outputs": [],
   "source": [
    "def plot_distributions(distributions, labels=None):\n",
    "    colors = mcolors.TABLEAU_COLORS\n",
    "    names = list(colors)\n",
    "    \n",
    "    for idx, dist in enumerate(distributions):\n",
    "        data = dist\n",
    "        if labels is None:\n",
    "            label = dist.name\n",
    "        else:\n",
    "            label = labels[idx]\n",
    "        mu, std = norm.fit(data)\n",
    "        plt.hist(data, density=True, alpha=0, color=colors[names[0]])\n",
    "        xmin, xmax = plt.xlim()\n",
    "        x = np.linspace(xmin, xmax, 100)\n",
    "        p = norm.pdf(x, mu, std)\n",
    "        plt.plot(x, p, 'k', linewidth=2, color=colors[names[0]], label=label)\n",
    "        names.pop(0)\n",
    "    plt.legend()\n",
    "    plt.show()\n",
    "        "
   ]
  },
  {
   "cell_type": "code",
   "execution_count": 425,
   "id": "887dd83f",
   "metadata": {
    "ExecuteTime": {
     "end_time": "2021-08-04T17:18:55.518348Z",
     "start_time": "2021-08-04T17:18:55.383289Z"
    }
   },
   "outputs": [
    {
     "data": {
      "image/png": "[encoded data removed]",
      "text/plain": [
       "<Figure size 432x288 with 1 Axes>"
      ]
     },
     "metadata": {
      "needs_background": "light"
     },
     "output_type": "display_data"
    }
   ],
   "source": [
    "plot_distributions([comparison['calc_ppg'],comparison['Avg']])"
   ]
  },
  {
   "cell_type": "code",
   "execution_count": 273,
   "id": "e103df36",
   "metadata": {
    "ExecuteTime": {
     "end_time": "2021-08-04T15:51:55.589339Z",
     "start_time": "2021-08-04T15:51:55.574333Z"
    }
   },
   "outputs": [
    {
     "data": {
      "text/plain": [
       "'\\nStandard scoring:\\n· Kickoff Return TD = 6pts\\n· Punt Return TD = 6pts\\n· Interception Return TD = 6pts\\n· Fumble Return TD = 6pts\\n· Blocked Punt or FG return for TD = 6pts\\n· Each Interception = 2pts\\n· Each Fumble Recovered = 2pts\\n· Blocked Punt, PAT or FG = 2pts\\n· Each Safety = 2pts\\n· Each Sack = 1pts\\n· 0 points allowed = 5pts\\n· 1-6 points allowed = 4pts\\n· 7-13 points allowed = 3pts\\n· 14-17 points allowed = 1pts\\n· 18-27 points allowed = 0pts\\n· 28-34 points allowed = -1pts\\n· 35-45 points allowed = -3pts\\n· 46+ points allowed = -5pts\\n\\nCustom options:\\n· Every kickoff return yds\\n· Every punt return yards\\n· Every sacks\\n· Every total tackles\\n· Interception Return TD\\n· Fumble Return TD\\n· Kickoff Return TD\\n· Punt Return TD\\n· Blocked Punt or FG return for TD\\n· Blocked Punt, PAT or FG\\n· Each Interception\\n· Each Fumble Recovered\\n· Each Fumble Forced\\n· Each Safety\\n· Each Tackle for Loss\\n· Passes Defensed\\n· Every Point Allowed\\n· 0 points allowed\\n· 2-6 points allowed\\n· 7-13 points allowed\\n· 14-17 points allowed\\n· 18-21 points allowed\\n· 22-27 points allowed\\n· 28-34 points allowed\\n· 35-45 points allowed\\n· 46+ points allowed\\n· Every Yard Allowed\\n· Less than 100 total yards allowed\\n· 100-199 total yards allowed\\n· 200-299 total yards allowed\\n· 300-349 total yards allowed\\n· 350-399 total yards allowed\\n· 400-449 total yards allowed\\n· 450-499 total yards allowed\\n· 500-549 total yards allowed\\n· 550+ total yards allowed\\n'"
      ]
     },
     "execution_count": 273,
     "metadata": {},
     "output_type": "execute_result"
    }
   ],
   "source": [
    "\"\"\"\n",
    "Standard scoring:\n",
    "· Kickoff Return TD = 6pts\n",
    "· Punt Return TD = 6pts\n",
    "· Interception Return TD = 6pts\n",
    "· Fumble Return TD = 6pts\n",
    "· Blocked Punt or FG return for TD = 6pts\n",
    "· Each Interception = 2pts\n",
    "· Each Fumble Recovered = 2pts\n",
    "· Blocked Punt, PAT or FG = 2pts\n",
    "· Each Safety = 2pts\n",
    "· Each Sack = 1pts\n",
    "· 0 points allowed = 5pts\n",
    "· 1-6 points allowed = 4pts\n",
    "· 7-13 points allowed = 3pts\n",
    "· 14-17 points allowed = 1pts\n",
    "· 18-27 points allowed = 0pts\n",
    "· 28-34 points allowed = -1pts\n",
    "· 35-45 points allowed = -3pts\n",
    "· 46+ points allowed = -5pts\n",
    "\n",
    "Custom options:\n",
    "· Every kickoff return yds\n",
    "· Every punt return yards\n",
    "· Every sacks\n",
    "· Every total tackles\n",
    "· Interception Return TD\n",
    "· Fumble Return TD\n",
    "· Kickoff Return TD\n",
    "· Punt Return TD\n",
    "· Blocked Punt or FG return for TD\n",
    "· Blocked Punt, PAT or FG\n",
    "· Each Interception\n",
    "· Each Fumble Recovered\n",
    "· Each Fumble Forced\n",
    "· Each Safety\n",
    "· Each Tackle for Loss\n",
    "· Passes Defensed\n",
    "· Every Point Allowed\n",
    "· 0 points allowed\n",
    "· 2-6 points allowed\n",
    "· 7-13 points allowed\n",
    "· 14-17 points allowed\n",
    "· 18-21 points allowed\n",
    "· 22-27 points allowed\n",
    "· 28-34 points allowed\n",
    "· 35-45 points allowed\n",
    "· 46+ points allowed\n",
    "· Every Yard Allowed\n",
    "· Less than 100 total yards allowed\n",
    "· 100-199 total yards allowed\n",
    "· 200-299 total yards allowed\n",
    "· 300-349 total yards allowed\n",
    "· 350-399 total yards allowed\n",
    "· 400-449 total yards allowed\n",
    "· 450-499 total yards allowed\n",
    "· 500-549 total yards allowed\n",
    "· 550+ total yards allowed\n",
    "\"\"\""
   ]
  },
  {
   "cell_type": "markdown",
   "id": "83fd3751",
   "metadata": {},
   "source": [
    "## Scoring Experiment"
   ]
  },
  {
   "cell_type": "code",
   "execution_count": 413,
   "id": "93fe099e",
   "metadata": {
    "ExecuteTime": {
     "end_time": "2021-08-04T17:15:19.676755Z",
     "start_time": "2021-08-04T17:15:19.659752Z"
    }
   },
   "outputs": [],
   "source": [
    "PROPOSED_SCORING = np.array([\n",
    "                            3, # Sacks\n",
    "                            0, # QBHits\n",
    "                            2, # TFL\n",
    "                            0, # TotPts\n",
    "                            -0.02, # TotYds\n",
    "                            2, # INT\n",
    "                            6, # INT TD\n",
    "                            0.5, # FF\n",
    "                            1.5, # FR\n",
    "                            6, # FR TD\n",
    "                            0.01, # KRet Yds\n",
    "                            6, # Kret TD\n",
    "                            2, # FG Blk\n",
    "                            2, # XP Blk\n",
    "                            0.01, # Pret Yds\n",
    "                            2, # P Blk\n",
    "                            6, # PRet TD\n",
    "                            1  # points allowed score\n",
    "                           ])"
   ]
  },
  {
   "cell_type": "code",
   "execution_count": 414,
   "id": "2da026b0",
   "metadata": {
    "ExecuteTime": {
     "end_time": "2021-08-04T17:15:19.926746Z",
     "start_time": "2021-08-04T17:15:19.914744Z"
    }
   },
   "outputs": [],
   "source": [
    "PROPOSED_SCORES = np.dot(df_per_game[[x for x in df_per_game.columns if x not in ['calc_ppg', 'proposed_ppg']]].values, \n",
    "                         PROPOSED_SCORING)\n",
    "df_per_game[\"proposed_ppg\"] = PROPOSED_SCORES\n",
    "\n",
    "df_per_game[\"proposed_ppg\"] = df_per_game[\"proposed_ppg\"].astype('float64')\n",
    "df_per_game[\"calc_ppg\"] = df_per_game[\"calc_ppg\"].astype('float64')"
   ]
  },
  {
   "cell_type": "code",
   "execution_count": 426,
   "id": "8c9be634",
   "metadata": {
    "ExecuteTime": {
     "end_time": "2021-08-04T17:19:44.955904Z",
     "start_time": "2021-08-04T17:19:44.804660Z"
    }
   },
   "outputs": [
    {
     "data": {
      "image/png": "[encoded data removed]",
      "text/plain": [
       "<Figure size 432x288 with 1 Axes>"
      ]
     },
     "metadata": {
      "needs_background": "light"
     },
     "output_type": "display_data"
    }
   ],
   "source": [
    "plot_distributions([comparison['Avg'],df_per_game[\"proposed_ppg\"]],\n",
    "                   labels=[\"Actual 2020 Score Distribution\",\n",
    "                           \"Modified 2020 Score Distribution\"])"
   ]
  },
  {
   "cell_type": "code",
   "execution_count": 416,
   "id": "3e747f0a",
   "metadata": {
    "ExecuteTime": {
     "end_time": "2021-08-04T17:15:23.620583Z",
     "start_time": "2021-08-04T17:15:23.612581Z"
    }
   },
   "outputs": [
    {
     "data": {
      "text/plain": [
       "count    32.000000\n",
       "mean     11.817578\n",
       "std       4.670154\n",
       "min       4.276250\n",
       "25%       8.679063\n",
       "50%      11.476875\n",
       "75%      15.752344\n",
       "max      22.525000\n",
       "Name: proposed_ppg, dtype: float64"
      ]
     },
     "execution_count": 416,
     "metadata": {},
     "output_type": "execute_result"
    }
   ],
   "source": [
    "df_per_game[\"proposed_ppg\"].describe()"
   ]
  },
  {
   "cell_type": "code",
   "execution_count": 412,
   "id": "00b5e234",
   "metadata": {
    "ExecuteTime": {
     "end_time": "2021-08-04T17:14:47.464622Z",
     "start_time": "2021-08-04T17:14:47.456621Z"
    }
   },
   "outputs": [
    {
     "data": {
      "text/plain": [
       "count    32.000000\n",
       "mean      5.884375\n",
       "std       2.090240\n",
       "min       1.800000\n",
       "25%       4.425000\n",
       "50%       6.150000\n",
       "75%       7.325000\n",
       "max       9.400000\n",
       "Name: Avg, dtype: float64"
      ]
     },
     "execution_count": 412,
     "metadata": {},
     "output_type": "execute_result"
    }
   ],
   "source": [
    "comparison['Avg'].describe()"
   ]
  },
  {
   "cell_type": "code",
   "execution_count": 418,
   "id": "e74c7600",
   "metadata": {
    "ExecuteTime": {
     "end_time": "2021-08-04T17:16:04.825591Z",
     "start_time": "2021-08-04T17:16:04.815590Z"
    }
   },
   "outputs": [
    {
     "data": {
      "text/plain": [
       "Tm\n",
       "Cincinnati Bengals           4.276250\n",
       "Jacksonville Jaguars         4.876875\n",
       "Las Vegas Raiders            5.426875\n",
       "Minnesota Vikings            5.816875\n",
       "Detroit Lions                6.081250\n",
       "Tennessee Titans             6.206875\n",
       "Houston Texans               7.558750\n",
       "New England Patriots         8.252500\n",
       "Dallas Cowboys               8.821250\n",
       "Atlanta Falcons              8.945625\n",
       "Los Angeles Chargers         9.052500\n",
       "Carolina Panthers            9.611875\n",
       "Kansas City Chiefs           9.808125\n",
       "New York Jets                9.871875\n",
       "Denver Broncos              10.968750\n",
       "San Francisco 49ers         11.335000\n",
       "Cleveland Browns            11.618750\n",
       "Chicago Bears               11.716875\n",
       "Green Bay Packers           11.836250\n",
       "New York Giants             13.992500\n",
       "Miami Dolphins              14.341875\n",
       "Baltimore Ravens            14.784375\n",
       "Buffalo Bills               14.803125\n",
       "Seattle Seahawks            15.712500\n",
       "Indianapolis Colts          15.871875\n",
       "Arizona Cardinals           16.405625\n",
       "New Orleans Saints          16.788750\n",
       "Washington Football Team    17.203125\n",
       "Los Angeles Rams            17.518125\n",
       "Tampa Bay Buccaneers        18.065000\n",
       "Philadelphia Eagles         18.067500\n",
       "Pittsburgh Steelers         22.525000\n",
       "Name: proposed_ppg, dtype: float64"
      ]
     },
     "execution_count": 418,
     "metadata": {},
     "output_type": "execute_result"
    }
   ],
   "source": [
    "df_per_game[\"proposed_ppg\"].sort_values()"
   ]
  },
  {
   "cell_type": "code",
   "execution_count": 419,
   "id": "c9105c1c",
   "metadata": {
    "ExecuteTime": {
     "end_time": "2021-08-04T17:16:31.609576Z",
     "start_time": "2021-08-04T17:16:31.593572Z"
    }
   },
   "outputs": [
    {
     "data": {
      "text/plain": [
       "10    1.8\n",
       "12    2.6\n",
       "16    2.7\n",
       "6     2.8\n",
       "14    3.6\n",
       "20    3.8\n",
       "30    4.1\n",
       "24    4.2\n",
       "1     4.5\n",
       "17    4.6\n",
       "9     4.6\n",
       "8     4.8\n",
       "27    5.5\n",
       "5     5.6\n",
       "11    5.9\n",
       "7     6.1\n",
       "4     6.2\n",
       "25    6.3\n",
       "28    6.4\n",
       "23    6.4\n",
       "15    6.6\n",
       "21    6.6\n",
       "0     6.8\n",
       "29    7.3\n",
       "3     7.4\n",
       "22    7.8\n",
       "31    7.9\n",
       "19    8.8\n",
       "2     8.8\n",
       "13    9.1\n",
       "26    9.3\n",
       "18    9.4\n",
       "Name: Avg, dtype: float64"
      ]
     },
     "execution_count": 419,
     "metadata": {},
     "output_type": "execute_result"
    }
   ],
   "source": [
    "comparison['Avg'].sort_values()"
   ]
  },
  {
   "cell_type": "code",
   "execution_count": null,
   "id": "e4bec24b",
   "metadata": {},
   "outputs": [],
   "source": []
  }
 ],
 "metadata": {
  "kernelspec": {
   "display_name": "Python 3",
   "language": "python",
   "name": "python3"
  },
  "language_info": {
   "codemirror_mode": {
    "name": "ipython",
    "version": 3
   },
   "file_extension": ".py",
   "mimetype": "text/x-python",
   "name": "python",
   "nbconvert_exporter": "python",
   "pygments_lexer": "ipython3",
   "version": "3.8.8"
  },
  "toc": {
   "base_numbering": 1,
   "nav_menu": {},
   "number_sections": true,
   "sideBar": true,
   "skip_h1_title": false,
   "title_cell": "Table of Contents",
   "title_sidebar": "Contents",
   "toc_cell": false,
   "toc_position": {},
   "toc_section_display": true,
   "toc_window_display": false
  }
 },
 "nbformat": 4,
 "nbformat_minor": 5
}
